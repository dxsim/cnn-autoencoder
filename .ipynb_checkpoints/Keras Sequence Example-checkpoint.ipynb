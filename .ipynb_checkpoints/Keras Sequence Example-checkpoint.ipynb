{
 "cells": [
  {
   "cell_type": "code",
   "execution_count": 463,
   "metadata": {
    "hide_input": false
   },
   "outputs": [],
   "source": [
    "import glob\n",
    "\n",
    "import cv2\n",
    "import matplotlib.pyplot as plt\n",
    "import numpy as np\n",
    "import tensorflow as tf\n",
    "import os"
   ]
  },
  {
   "cell_type": "code",
   "execution_count": 2,
   "metadata": {},
   "outputs": [],
   "source": [
    "keras = tf.keras\n",
    "K = keras.backend"
   ]
  },
  {
   "cell_type": "code",
   "execution_count": 465,
   "metadata": {},
   "outputs": [
    {
     "name": "stdout",
     "output_type": "stream",
     "text": [
      "[]\n"
     ]
    }
   ],
   "source": [
    "fileList = []\n",
    "for root, dirs, files in os.walk('/data/train/'):\n",
    "    for file in files:\n",
    "        fileList.append(file)\n",
    "print(fileList)"
   ]
  },
  {
   "cell_type": "code",
   "execution_count": 446,
   "metadata": {},
   "outputs": [],
   "source": [
    "def load_image(p):\n",
    "\n",
    "    img = cv2.imread(p,cv2.IMREAD_UNCHANGED)\n",
    "    \n",
    "    print(img.shape)\n",
    "    #make mask of where the transparent bits are\n",
    "    trans_mask = img[:,:,3] == 0\n",
    "\n",
    "    #replace areas of transparency with white and not transparent\n",
    "    img[trans_mask] = [255, 255, 255, 255]\n",
    "\n",
    "    img = cv2.cvtColor(img, cv2.COLOR_BGR2GRAY)\n",
    "\n",
    "    return img\n",
    "\n",
    "class MySequence(keras.utils.Sequence):\n",
    "    def __init__(self, images_dir, batch_size=10):\n",
    "#       images = glob.glob(images_dir + \"/**/*.jpg\", recursive=True)\n",
    "        images = glob.glob(images_dir + \"/**/*.png\", recursive=True)\n",
    "        print(f\"Found {len(images)} images in {images_dir}\")\n",
    "\n",
    "        self.images = images\n",
    "        self.batch_size = batch_size\n",
    "\n",
    "    def on_epoch_end(self):\n",
    "        #'Updates indexes after each epoch'\n",
    "        self.indexes = np.arange(len(self.list_IDs))\n",
    "        if self.shuffle == True:\n",
    "            np.random.shuffle(self.indexes)\n",
    "        \n",
    "    def __len__(self):\n",
    "        return ceil(len(self.images)/self.batch_size)\n",
    "\n",
    "    def __getitem__(self, idx):\n",
    "        # Get start and end indices for batch\n",
    "        start_idx = idx * self.batch_size\n",
    "        end_idx = (idx + 1) * self.batch_size\n",
    "\n",
    "        batch_images = self.images[start_idx:end_idx]\n",
    "        X = []\n",
    "        for path in batch_images:\n",
    "            # Load image using cv2\n",
    "            img = load_image(path)\n",
    "\n",
    "            # Resize image using cv2\n",
    "            img = cv2.resize(img, (200, 200))\n",
    "            \n",
    "            \n",
    "            X.append(img)\n",
    "\n",
    "        X = np.stack(X, axis=0)\n",
    "\n",
    "        # Return the entire batch of images (you may also return the labels like so: return X, y)\n",
    "        return X"
   ]
  },
  {
   "cell_type": "code",
   "execution_count": 452,
   "metadata": {},
   "outputs": [
    {
     "name": "stdout",
     "output_type": "stream",
     "text": [
      "Found 1070 images in ./data/test/\n"
     ]
    }
   ],
   "source": [
    "# my_sequence = MySequence(\"./data/test/LGAGRICULTURE\")\n",
    "my_sequence = MySequence(\"./data/test/\")"
   ]
  },
  {
   "cell_type": "code",
   "execution_count": 453,
   "metadata": {},
   "outputs": [
    {
     "name": "stdout",
     "output_type": "stream",
     "text": [
      "(2481, 2481, 4)\n",
      "(2481, 2481, 4)\n",
      "(2481, 2481, 4)\n",
      "(2481, 2481, 4)\n",
      "(2481, 2481, 4)\n",
      "(2481, 2481, 4)\n",
      "(2481, 2481, 4)\n",
      "(2481, 2481, 4)\n",
      "(2481, 2481, 4)\n",
      "(2481, 2481, 4)\n"
     ]
    }
   ],
   "source": [
    "image_batch = my_sequence[0]"
   ]
  },
  {
   "cell_type": "code",
   "execution_count": 450,
   "metadata": {},
   "outputs": [
    {
     "ename": "AttributeError",
     "evalue": "'MySequence' object has no attribute 'shape'",
     "output_type": "error",
     "traceback": [
      "\u001b[1;31m---------------------------------------------------------------------------\u001b[0m",
      "\u001b[1;31mAttributeError\u001b[0m                            Traceback (most recent call last)",
      "\u001b[1;32m<ipython-input-450-49ae4797d486>\u001b[0m in \u001b[0;36m<module>\u001b[1;34m\u001b[0m\n\u001b[1;32m----> 1\u001b[1;33m \u001b[0mimage_batch\u001b[0m\u001b[1;33m.\u001b[0m\u001b[0mshape\u001b[0m\u001b[1;33m\u001b[0m\u001b[1;33m\u001b[0m\u001b[0m\n\u001b[0m",
      "\u001b[1;31mAttributeError\u001b[0m: 'MySequence' object has no attribute 'shape'"
     ]
    }
   ],
   "source": [
    "image_batch.shape"
   ]
  },
  {
   "cell_type": "code",
   "execution_count": 461,
   "metadata": {},
   "outputs": [
    {
     "data": {
      "text/plain": [
       "<matplotlib.image.AxesImage at 0x2e98d077908>"
      ]
     },
     "execution_count": 461,
     "metadata": {},
     "output_type": "execute_result"
    },
    {
     "data": {
      "image/png": "[encoded data removed]",
      "text/plain": [
       "<Figure size 432x288 with 1 Axes>"
      ]
     },
     "metadata": {
      "needs_background": "light"
     },
     "output_type": "display_data"
    }
   ],
   "source": [
    "plt.imshow(np.squeeze(image_batch[np.random.randint(10)]),cmap='gray')"
   ]
  },
  {
   "cell_type": "code",
   "execution_count": null,
   "metadata": {},
   "outputs": [],
   "source": []
  }
 ],
 "metadata": {
  "kernelspec": {
   "display_name": "Python 3",
   "language": "python",
   "name": "python3"
  },
  "language_info": {
   "codemirror_mode": {
    "name": "ipython",
    "version": 3
   },
   "file_extension": ".py",
   "mimetype": "text/x-python",
   "name": "python",
   "nbconvert_exporter": "python",
   "pygments_lexer": "ipython3",
   "version": "3.7.4"
  }
 },
 "nbformat": 4,
 "nbformat_minor": 2
}
